{
 "cells": [
  {
   "cell_type": "code",
   "execution_count": null,
   "id": "bfe7de0a-2804-46ef-947d-a8408db10714",
   "metadata": {},
   "outputs": [],
   "source": [
    "import pandas as pd\n",
    "import vectorbt as vbt\n",
    "import numpy as np"
   ]
  },
  {
   "cell_type": "code",
   "execution_count": null,
   "id": "da492b34-5583-448c-aaf0-4361faaed4bf",
   "metadata": {},
   "outputs": [],
   "source": [
    "# Load individual asset close prices\n",
    "btc = pd.read_csv(\"BTCUSDT_1h_2025-06-09.csv\", parse_dates=True, index_col=0)['close']\n",
    "eth = pd.read_csv(\"ETHUSDT_1h_2025-06-09.csv\", parse_dates=True, index_col=0)['close']\n",
    "xrp = pd.read_csv('XRPUSDT_1h_2025-06-09.csv', parse_dates=True, index_col=0)['close']"
   ]
  },
  {
   "cell_type": "code",
   "execution_count": null,
   "id": "1b980798-0f1e-4ebb-b527-9125f1b1aede",
   "metadata": {},
   "outputs": [],
   "source": [
    "# Function to clean and prepare each CSV\n",
    "def load_and_clean_csv(path, name):\n",
    "    df = pd.read_csv(path, parse_dates=['timestamp'])\n",
    "    df = df[['timestamp', 'close']].dropna()\n",
    "    df = df.groupby('timestamp').mean()  # Handle duplicates by averaging\n",
    "    df.rename(columns={'close': name}, inplace=True)\n",
    "    return df"
   ]
  },
  {
   "cell_type": "code",
   "execution_count": null,
   "id": "63bed1d8-b5d4-490c-bcdb-f4f30acc1e75",
   "metadata": {},
   "outputs": [],
   "source": [
    "# Load and clean individual assets\n",
    "btc = load_and_clean_csv('BTCUSDT_1h_2025-06-09.csv', 'BTC')\n",
    "eth = load_and_clean_csv('ETHUSDT_1h_2025-06-09.csv', 'ETH')\n",
    "xrp = load_and_clean_csv('XRPUSDT_1h_2025-06-09.csv', 'XRP')"
   ]
  },
  {
   "cell_type": "code",
   "execution_count": null,
   "id": "f4219d47-170f-4e38-ac60-8bd1f37d0b99",
   "metadata": {},
   "outputs": [],
   "source": [
    "# Merge on Date\n",
    "close = btc.join([eth, xrp], how='outer')\n",
    "close = close.sort_index()\n",
    "close = close.dropna()\n",
    "close"
   ]
  },
  {
   "cell_type": "code",
   "execution_count": null,
   "id": "29d40946-9b75-49e0-81b9-e31e5024c00c",
   "metadata": {},
   "outputs": [],
   "source": [
    "# Strategy Parameters\n",
    "sma_period = 50\n",
    "ema_fast = 9\n",
    "ema_slow = 21"
   ]
  },
  {
   "cell_type": "code",
   "execution_count": null,
   "id": "8b38907d-df1b-469b-bd56-9471673808ae",
   "metadata": {},
   "outputs": [],
   "source": [
    "# Indicators\n",
    "sma = close.rolling(window=sma_period).mean()\n",
    "ema_fast_val = close.ewm(span=ema_fast, adjust=False).mean()\n",
    "ema_slow_val = close.ewm(span=ema_slow, adjust=False).mean()"
   ]
  },
  {
   "cell_type": "code",
   "execution_count": null,
   "id": "4c2d286d-4c33-484c-8c14-815f604b4b26",
   "metadata": {},
   "outputs": [],
   "source": [
    "# Entry and Exit Conditions\n",
    "ema_cross_up = ema_fast_val > ema_slow_val\n",
    "ema_cross_down = ema_fast_val < ema_slow_val\n",
    "trend_bull = close > sma\n",
    "trend_bear = close < sma\n",
    "price_above_buffer = close > ema_slow_val * 1.005\n",
    "\n",
    "# Risk management conditions\n",
    "max_drawdown = 0.20  # 20% drawdown limit\n",
    "highest_since_entry = highest(close, since(entries))  # tracks highest price since entry\n",
    "drawdown_breach = close < highest_since_entry * (1 - max_drawdown)\n",
    "\n",
    "entries = ema_cross_up & trend_bull & price_above_buffer\n",
    "exits = ema_cross_down & trend_bear | drawdown_breach  # exits when either condition is met\n",
    "\n",
    "#entries = ema_cross_up & trend_bull & price_above_buffer\n",
    "#exits = ema_cross_down & trend_bear"
   ]
  },
  {
   "cell_type": "code",
   "execution_count": null,
   "id": "6e4b8201-53e7-43e4-9e56-e94ca520fa4a",
   "metadata": {},
   "outputs": [],
   "source": [
    "# Backtest Parameters\n",
    "initial_cash = 100_000\n",
    "num_assets = close.shape[1]\n",
    "capital_per_asset = initial_cash / num_assets"
   ]
  },
  {
   "cell_type": "code",
   "execution_count": null,
   "id": "028d7b36-3cea-4047-a9e0-807f9152d5d0",
   "metadata": {},
   "outputs": [],
   "source": [
    "# Run Backtest with no compounding and no cooldown\n",
    "pf = vbt.Portfolio.from_signals(\n",
    "    close=close,\n",
    "    entries=entries,\n",
    "    exits=exits,\n",
    "    size=capital_per_asset,\n",
    "    size_type='amount',         # Use fixed amount per trade\n",
    "    init_cash=initial_cash,\n",
    "    fees=0.001,\n",
    "    cash_sharing=True,          # All assets share the same cash pool\n",
    "    freq='1h'                   # Set frequency to avoid ratio warnings\n",
    ")"
   ]
  },
  {
   "cell_type": "code",
   "execution_count": null,
   "id": "4f8f2570-0d87-4d22-a9bf-87ab1b8d6de0",
   "metadata": {},
   "outputs": [],
   "source": [
    "# Output results\n",
    "print(pf.stats())\n",
    "pf.plot().show()"
   ]
  },
  {
   "cell_type": "code",
   "execution_count": null,
   "id": "29bd3d85-bd33-4079-a2e1-7a6e75e52ade",
   "metadata": {},
   "outputs": [],
   "source": []
  },
  {
   "cell_type": "code",
   "execution_count": null,
   "id": "ed7c3675-62c7-4883-806a-d7f7e0fc8c9a",
   "metadata": {},
   "outputs": [],
   "source": [
    "pf.plot_drawdowns(title='Drawdown Over Time').show()\n"
   ]
  },
  {
   "cell_type": "code",
   "execution_count": null,
   "id": "b126e29a-a6ef-4f3e-8d75-996d034f1181",
   "metadata": {},
   "outputs": [],
   "source": [
    "pf.returns()\n"
   ]
  },
  {
   "cell_type": "code",
   "execution_count": null,
   "id": "ba544b20-0c0a-4ef0-9834-d3058245d698",
   "metadata": {},
   "outputs": [],
   "source": [
    "#pf.returns.cumsum().vbt.plot(title='Cumulative Returns per Asset').show()\n",
    "pf.returns().cumsum().vbt.plot(title='Cumulative Returns per Asset').show()\n"
   ]
  },
  {
   "cell_type": "code",
   "execution_count": null,
   "id": "d6d61e91-4c82-471f-9271-4852148fd66e",
   "metadata": {},
   "outputs": [],
   "source": [
    "#Using the compound capital, ie, all the available capital for entering each trade"
   ]
  },
  {
   "cell_type": "code",
   "execution_count": null,
   "id": "2142eed5-1e73-47f8-8445-c4f55ee491d8",
   "metadata": {},
   "outputs": [],
   "source": [
    "pf1 = vbt.Portfolio.from_signals(\n",
    "    close=close,\n",
    "    entries=entries,\n",
    "    exits=exits,\n",
    "    size=1.0,                   # Use 100% of available capital for each trade\n",
    "    size_type='percent',        # Use percent of current equity (compounding)\n",
    "    init_cash=initial_cash,\n",
    "    fees=0.001,\n",
    "    cash_sharing=True,\n",
    "    freq='1h'\n",
    ")"
   ]
  },
  {
   "cell_type": "code",
   "execution_count": null,
   "id": "15ee1662-f41a-41d3-8d1a-f99e704b59b5",
   "metadata": {},
   "outputs": [],
   "source": [
    "pf1.returns()"
   ]
  },
  {
   "cell_type": "code",
   "execution_count": null,
   "id": "cd150329-fb22-447b-bb3e-0bf01518d931",
   "metadata": {},
   "outputs": [],
   "source": [
    "pf1.returns().cumsum().vbt.plot(title='Cumulative Returns per Asset').show()"
   ]
  },
  {
   "cell_type": "code",
   "execution_count": null,
   "id": "8d35a26d-82ae-4e3b-9420-1418e1e01232",
   "metadata": {},
   "outputs": [],
   "source": [
    "# Output results\n",
    "print(pf1.stats())\n",
    "pf1.plot().show()"
   ]
  },
  {
   "cell_type": "code",
   "execution_count": null,
   "id": "9c4db1c3-b6d6-4a38-bb17-a120a1edcb10",
   "metadata": {},
   "outputs": [],
   "source": [
    "pf1.plot_drawdowns(title='Drawdown Over Time').show()"
   ]
  },
  {
   "cell_type": "code",
   "execution_count": null,
   "id": "2170dd7f-65f9-4a4c-9e42-e316eca4a041",
   "metadata": {},
   "outputs": [],
   "source": [
    "entries_bh = close.index == close.index[0]  # True only on the first timestamp\n",
    "exits_bh = pd.Series(False, index=close.index)  # Never exit\n",
    "\n",
    "pf_bh = vbt.Portfolio.from_signals(\n",
    "    close=close,\n",
    "    entries=entries_bh,\n",
    "    exits=exits_bh,\n",
    "    init_cash=pf.init_cash,\n",
    "    fees=0.0,              # Usually buy and hold assumes zero trading fees\n",
    "    freq=pf.freq\n",
    ")\n"
   ]
  },
  {
   "cell_type": "code",
   "execution_count": null,
   "id": "3adf599d-b8d4-4110-963d-3f7192adc511",
   "metadata": {},
   "outputs": [],
   "source": [
    "entries_bh = close.index == close.index[0]  # True only on the first timestamp\n",
    "exits_bh = pd.Series(False, index=close.index)  # Never exit\n",
    "\n",
    "pf_bh = vbt.Portfolio.from_signals(\n",
    "    close=close,\n",
    "    entries=entries_bh,\n",
    "    exits=exits_bh,\n",
    "    init_cash=pf.init_cash,  # use your initial cash\n",
    "    fees=0.0,\n",
    "    freq=close.index.freq or close.index.inferred_freq  # Get freq from index\n",
    ")\n"
   ]
  },
  {
   "cell_type": "code",
   "execution_count": null,
   "id": "0578465b-b24f-4b4a-b7e0-dc8f6d3f5812",
   "metadata": {},
   "outputs": [],
   "source": [
    "#only SMA and EMA strategy"
   ]
  },
  {
   "cell_type": "code",
   "execution_count": null,
   "id": "21478187-bb83-47db-8416-1e1b0427a122",
   "metadata": {},
   "outputs": [],
   "source": [
    "# Entry and Exit Conditions (simplified)\n",
    "ema_cross_up = ema_fast_val > ema_slow_val\n",
    "ema_cross_down = ema_fast_val < ema_slow_val\n",
    "trend_bull = close > sma\n",
    "trend_bear = close < sma\n",
    "\n",
    "# Final signals\n",
    "entries = ema_cross_up & trend_bull\n",
    "exits = ema_cross_down & trend_bear\n"
   ]
  },
  {
   "cell_type": "code",
   "execution_count": null,
   "id": "13ba6f3c-a929-438b-b872-f7ac083fcd17",
   "metadata": {},
   "outputs": [],
   "source": [
    "pf2 = vbt.Portfolio.from_signals(\n",
    "    close=close,\n",
    "    entries=entries,\n",
    "    exits=exits,\n",
    "    size=1.0,                   # 100% of current equity (compounding)\n",
    "    size_type='percent',\n",
    "    init_cash=initial_cash,\n",
    "    fees=0.002,                 # Simulate 0.2% slippage\n",
    "    cash_sharing=True,\n",
    "    freq='1h'\n",
    ")\n"
   ]
  },
  {
   "cell_type": "code",
   "execution_count": null,
   "id": "f79b999a-e8da-436c-975c-321125de7dc9",
   "metadata": {},
   "outputs": [],
   "source": [
    "# Output results\n",
    "print(pf2.stats())\n",
    "pf2.plot().show()"
   ]
  },
  {
   "cell_type": "code",
   "execution_count": null,
   "id": "2712fc4d-d15e-44fe-8937-675cd83db345",
   "metadata": {},
   "outputs": [],
   "source": []
  }
 ],
 "metadata": {
  "kernelspec": {
   "display_name": "Python [conda env:new_base]",
   "language": "python",
   "name": "conda-env-new_base-py"
  },
  "language_info": {
   "codemirror_mode": {
    "name": "ipython",
    "version": 3
   },
   "file_extension": ".py",
   "mimetype": "text/x-python",
   "name": "python",
   "nbconvert_exporter": "python",
   "pygments_lexer": "ipython3",
   "version": "3.13.2"
  }
 },
 "nbformat": 4,
 "nbformat_minor": 5
}
