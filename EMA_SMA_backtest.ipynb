{
 "cells": [
  {
   "cell_type": "code",
   "execution_count": 21,
   "id": "bfe7de0a-2804-46ef-947d-a8408db10714",
   "metadata": {},
   "outputs": [],
   "source": [
    "import pandas as pd\n",
    "import vectorbt as vbt\n",
    "import numpy as np\n",
    "import vectorbt as vbt\n",
    "from hmac import digest"
   ]
  },
  {
   "cell_type": "code",
   "execution_count": 6,
   "id": "8769208a",
   "metadata": {},
   "outputs": [],
   "source": [
    "# Load individual asset close prices from the 'binance_data' folder\n",
    "hbar = pd.read_csv(\"binance_data/HBARUSDT_1h_2025-10-08.csv\", parse_dates=True, index_col=0)['close']\n",
    "eth = pd.read_csv(\"binance_data/ETHUSDT_1h_2025-10-08.csv\", parse_dates=True, index_col=0)['close']\n",
    "xrp = pd.read_csv(\"binance_data/XRPUSDT_1h_2025-10-08.csv\", parse_dates=True, index_col=0)['close']\n",
    "sol = pd.read_csv(\"binance_data/SOLUSDT_1h_2025-10-08.csv\", parse_dates=True, index_col=0)['close']\n"
   ]
  },
  {
   "cell_type": "code",
   "execution_count": 8,
   "id": "34e9796e",
   "metadata": {},
   "outputs": [
    {
     "name": "stdout",
     "output_type": "stream",
     "text": [
      "timestamp\n",
      "2019-12-31 23:00:00    0.01024\n",
      "2020-01-01 00:00:00    0.01013\n",
      "2020-01-01 01:00:00    0.01023\n",
      "2020-01-01 02:00:00    0.01030\n",
      "2020-01-01 03:00:00    0.01030\n",
      "                        ...   \n",
      "2025-10-08 05:00:00    0.21633\n",
      "2025-10-08 06:00:00    0.21603\n",
      "2025-10-08 07:00:00    0.21711\n",
      "2025-10-08 08:00:00    0.21805\n",
      "2025-10-08 09:00:00    0.21768\n",
      "Name: close, Length: 50547, dtype: float64\n"
     ]
    }
   ],
   "source": [
    "print(hbar)"
   ]
  },
  {
   "cell_type": "code",
   "execution_count": 15,
   "id": "1b980798-0f1e-4ebb-b527-9125f1b1aede",
   "metadata": {},
   "outputs": [],
   "source": [
    "def load_and_clean_csv(filename, name, folder=\"binance_data\"):\n",
    "    # Combine folder and file name safely\n",
    "    path = os.path.join(folder, filename)\n",
    "    \n",
    "    df = pd.read_csv(path, parse_dates=['timestamp'])\n",
    "    df = df[['timestamp', 'close']].dropna()\n",
    "    df = df.groupby('timestamp').mean()  # Handle duplicates\n",
    "    df.rename(columns={'close': name}, inplace=True)\n",
    "    return df\n",
    "\n",
    "hbar = load_and_clean_csv('HBARUSDT_1h_2025-10-08.csv', 'HBAR')\n",
    "eth  = load_and_clean_csv('ETHUSDT_1h_2025-10-08.csv', 'ETH')\n",
    "xrp  = load_and_clean_csv('XRPUSDT_1h_2025-10-08.csv', 'XRP')\n",
    "sol  = load_and_clean_csv('SOLUSDT_1h_2025-10-08.csv', 'SOL')\n",
    "\n"
   ]
  },
  {
   "cell_type": "code",
   "execution_count": 16,
   "id": "f4219d47-170f-4e38-ac60-8bd1f37d0b99",
   "metadata": {},
   "outputs": [
    {
     "data": {
      "text/html": [
       "<div>\n",
       "<style scoped>\n",
       "    .dataframe tbody tr th:only-of-type {\n",
       "        vertical-align: middle;\n",
       "    }\n",
       "\n",
       "    .dataframe tbody tr th {\n",
       "        vertical-align: top;\n",
       "    }\n",
       "\n",
       "    .dataframe thead th {\n",
       "        text-align: right;\n",
       "    }\n",
       "</style>\n",
       "<table border=\"1\" class=\"dataframe\">\n",
       "  <thead>\n",
       "    <tr style=\"text-align: right;\">\n",
       "      <th></th>\n",
       "      <th>HBAR</th>\n",
       "      <th>ETH</th>\n",
       "      <th>XRP</th>\n",
       "    </tr>\n",
       "    <tr>\n",
       "      <th>timestamp</th>\n",
       "      <th></th>\n",
       "      <th></th>\n",
       "      <th></th>\n",
       "    </tr>\n",
       "  </thead>\n",
       "  <tbody>\n",
       "    <tr>\n",
       "      <th>2019-12-31 23:00:00</th>\n",
       "      <td>0.01024</td>\n",
       "      <td>129.16</td>\n",
       "      <td>0.19295</td>\n",
       "    </tr>\n",
       "    <tr>\n",
       "      <th>2020-01-01 00:00:00</th>\n",
       "      <td>0.01013</td>\n",
       "      <td>128.87</td>\n",
       "      <td>0.19248</td>\n",
       "    </tr>\n",
       "    <tr>\n",
       "      <th>2020-01-01 01:00:00</th>\n",
       "      <td>0.01023</td>\n",
       "      <td>130.64</td>\n",
       "      <td>0.19371</td>\n",
       "    </tr>\n",
       "    <tr>\n",
       "      <th>2020-01-01 02:00:00</th>\n",
       "      <td>0.01030</td>\n",
       "      <td>130.85</td>\n",
       "      <td>0.19418</td>\n",
       "    </tr>\n",
       "    <tr>\n",
       "      <th>2020-01-01 03:00:00</th>\n",
       "      <td>0.01030</td>\n",
       "      <td>130.20</td>\n",
       "      <td>0.19397</td>\n",
       "    </tr>\n",
       "    <tr>\n",
       "      <th>...</th>\n",
       "      <td>...</td>\n",
       "      <td>...</td>\n",
       "      <td>...</td>\n",
       "    </tr>\n",
       "    <tr>\n",
       "      <th>2025-10-08 05:00:00</th>\n",
       "      <td>0.21633</td>\n",
       "      <td>4437.49</td>\n",
       "      <td>2.85530</td>\n",
       "    </tr>\n",
       "    <tr>\n",
       "      <th>2025-10-08 06:00:00</th>\n",
       "      <td>0.21603</td>\n",
       "      <td>4455.60</td>\n",
       "      <td>2.86150</td>\n",
       "    </tr>\n",
       "    <tr>\n",
       "      <th>2025-10-08 07:00:00</th>\n",
       "      <td>0.21711</td>\n",
       "      <td>4463.48</td>\n",
       "      <td>2.85800</td>\n",
       "    </tr>\n",
       "    <tr>\n",
       "      <th>2025-10-08 08:00:00</th>\n",
       "      <td>0.21805</td>\n",
       "      <td>4475.51</td>\n",
       "      <td>2.86830</td>\n",
       "    </tr>\n",
       "    <tr>\n",
       "      <th>2025-10-08 09:00:00</th>\n",
       "      <td>0.21768</td>\n",
       "      <td>4482.20</td>\n",
       "      <td>2.86890</td>\n",
       "    </tr>\n",
       "  </tbody>\n",
       "</table>\n",
       "<p>50547 rows × 3 columns</p>\n",
       "</div>"
      ],
      "text/plain": [
       "                        HBAR      ETH      XRP\n",
       "timestamp                                     \n",
       "2019-12-31 23:00:00  0.01024   129.16  0.19295\n",
       "2020-01-01 00:00:00  0.01013   128.87  0.19248\n",
       "2020-01-01 01:00:00  0.01023   130.64  0.19371\n",
       "2020-01-01 02:00:00  0.01030   130.85  0.19418\n",
       "2020-01-01 03:00:00  0.01030   130.20  0.19397\n",
       "...                      ...      ...      ...\n",
       "2025-10-08 05:00:00  0.21633  4437.49  2.85530\n",
       "2025-10-08 06:00:00  0.21603  4455.60  2.86150\n",
       "2025-10-08 07:00:00  0.21711  4463.48  2.85800\n",
       "2025-10-08 08:00:00  0.21805  4475.51  2.86830\n",
       "2025-10-08 09:00:00  0.21768  4482.20  2.86890\n",
       "\n",
       "[50547 rows x 3 columns]"
      ]
     },
     "execution_count": 16,
     "metadata": {},
     "output_type": "execute_result"
    }
   ],
   "source": [
    "# Merge on Date\n",
    "close = hbar.join([eth, xrp], how='outer')\n",
    "close = close.sort_index()\n",
    "close = close.dropna()\n",
    "close"
   ]
  },
  {
   "cell_type": "code",
   "execution_count": 17,
   "id": "29d40946-9b75-49e0-81b9-e31e5024c00c",
   "metadata": {},
   "outputs": [],
   "source": [
    "# Strategy Parameters\n",
    "sma_period = 50\n",
    "ema_fast = 9\n",
    "ema_slow = 21"
   ]
  },
  {
   "cell_type": "code",
   "execution_count": 18,
   "id": "8b38907d-df1b-469b-bd56-9471673808ae",
   "metadata": {},
   "outputs": [],
   "source": [
    "# Indicators\n",
    "sma = close.rolling(window=sma_period).mean()\n",
    "ema_fast_val = close.ewm(span=ema_fast, adjust=False).mean()\n",
    "ema_slow_val = close.ewm(span=ema_slow, adjust=False).mean()"
   ]
  },
  {
   "cell_type": "code",
   "execution_count": null,
   "id": "4c2d286d-4c33-484c-8c14-815f604b4b26",
   "metadata": {},
   "outputs": [
    {
     "ename": "NameError",
     "evalue": "name 'drawdown_breach' is not defined",
     "output_type": "error",
     "traceback": [
      "\u001b[31m---------------------------------------------------------------------------\u001b[39m",
      "\u001b[31mNameError\u001b[39m                                 Traceback (most recent call last)",
      "\u001b[36mCell\u001b[39m\u001b[36m \u001b[39m\u001b[32mIn[25]\u001b[39m\u001b[32m, line 14\u001b[39m\n\u001b[32m     10\u001b[39m \u001b[38;5;66;03m#highest_since_entry = digest(close, since(entries))  # tracks highest price since entry\u001b[39;00m\n\u001b[32m     11\u001b[39m \u001b[38;5;66;03m#drawdown_breach = close < highest_since_entry * (1 - max_drawdown)\u001b[39;00m\n\u001b[32m     13\u001b[39m entries = ema_cross_up & trend_bull & price_above_buffer\n\u001b[32m---> \u001b[39m\u001b[32m14\u001b[39m exits = ema_cross_down & trend_bear | drawdown_breach\n",
      "\u001b[31mNameError\u001b[39m: name 'drawdown_breach' is not defined"
     ]
    }
   ],
   "source": [
    "# Entry and Exit Conditions\n",
    "ema_cross_up = ema_fast_val > ema_slow_val\n",
    "ema_cross_down = ema_fast_val < ema_slow_val\n",
    "trend_bull = close > sma\n",
    "trend_bear = close < sma\n",
    "price_above_buffer = close > ema_slow_val * 1.005\n",
    "\n",
    "# Risk management conditions\n",
    "max_drawdown = 0.005 # 5% drawdown limit\n",
    "#highest_since_entry = digest(close, since(entries))  # tracks highest price since entry\n",
    "#drawdown_breach = close < highest_since_entry * (1 - max_drawdown)\n",
    "\n",
    "entries = ema_cross_up & trend_bull & price_above_buffer\n",
    "exits = ema_cross_down & trend_bear | drawdown_breach  # exits when either condition is met\n",
    "\n",
    "#entries = ema_cross_up & trend_bull & price_above_buffer\n",
    "#exits = ema_cross_down & trend_bear"
   ]
  },
  {
   "cell_type": "code",
   "execution_count": null,
   "id": "6e4b8201-53e7-43e4-9e56-e94ca520fa4a",
   "metadata": {},
   "outputs": [],
   "source": [
    "# Backtest Parameters\n",
    "initial_cash = 100_000\n",
    "num_assets = close.shape[1]\n",
    "capital_per_asset = initial_cash / num_assets"
   ]
  },
  {
   "cell_type": "code",
   "execution_count": null,
   "id": "028d7b36-3cea-4047-a9e0-807f9152d5d0",
   "metadata": {},
   "outputs": [],
   "source": [
    "# Run Backtest with no compounding and no cooldown\n",
    "pf = vbt.Portfolio.from_signals(\n",
    "    close=close,\n",
    "    entries=entries,\n",
    "    exits=exits,\n",
    "    size=capital_per_asset,\n",
    "    size_type='amount',         # Use fixed amount per trade\n",
    "    init_cash=initial_cash,\n",
    "    fees=0.001,\n",
    "    cash_sharing=True,          # All assets share the same cash pool\n",
    "    freq='1h'                   # Set frequency to avoid ratio warnings\n",
    ")"
   ]
  },
  {
   "cell_type": "code",
   "execution_count": null,
   "id": "4f8f2570-0d87-4d22-a9bf-87ab1b8d6de0",
   "metadata": {},
   "outputs": [],
   "source": [
    "# Output results\n",
    "print(pf.stats())\n",
    "pf.plot().show()"
   ]
  },
  {
   "cell_type": "code",
   "execution_count": null,
   "id": "29bd3d85-bd33-4079-a2e1-7a6e75e52ade",
   "metadata": {},
   "outputs": [],
   "source": []
  },
  {
   "cell_type": "code",
   "execution_count": null,
   "id": "ed7c3675-62c7-4883-806a-d7f7e0fc8c9a",
   "metadata": {},
   "outputs": [],
   "source": [
    "pf.plot_drawdowns(title='Drawdown Over Time').show()\n"
   ]
  },
  {
   "cell_type": "code",
   "execution_count": null,
   "id": "b126e29a-a6ef-4f3e-8d75-996d034f1181",
   "metadata": {},
   "outputs": [],
   "source": [
    "pf.returns()\n"
   ]
  },
  {
   "cell_type": "code",
   "execution_count": null,
   "id": "ba544b20-0c0a-4ef0-9834-d3058245d698",
   "metadata": {},
   "outputs": [],
   "source": [
    "#pf.returns.cumsum().vbt.plot(title='Cumulative Returns per Asset').show()\n",
    "pf.returns().cumsum().vbt.plot(title='Cumulative Returns per Asset').show()\n"
   ]
  },
  {
   "cell_type": "code",
   "execution_count": null,
   "id": "d6d61e91-4c82-471f-9271-4852148fd66e",
   "metadata": {},
   "outputs": [],
   "source": [
    "#Using the compound capital, ie, all the available capital for entering each trade"
   ]
  },
  {
   "cell_type": "code",
   "execution_count": null,
   "id": "2142eed5-1e73-47f8-8445-c4f55ee491d8",
   "metadata": {},
   "outputs": [],
   "source": [
    "pf1 = vbt.Portfolio.from_signals(\n",
    "    close=close,\n",
    "    entries=entries,\n",
    "    exits=exits,\n",
    "    size=1.0,                   # Use 100% of available capital for each trade\n",
    "    size_type='percent',        # Use percent of current equity (compounding)\n",
    "    init_cash=initial_cash,\n",
    "    fees=0.001,\n",
    "    cash_sharing=True,\n",
    "    freq='1h'\n",
    ")"
   ]
  },
  {
   "cell_type": "code",
   "execution_count": null,
   "id": "15ee1662-f41a-41d3-8d1a-f99e704b59b5",
   "metadata": {},
   "outputs": [],
   "source": [
    "pf1.returns()"
   ]
  },
  {
   "cell_type": "code",
   "execution_count": null,
   "id": "cd150329-fb22-447b-bb3e-0bf01518d931",
   "metadata": {},
   "outputs": [],
   "source": [
    "pf1.returns().cumsum().vbt.plot(title='Cumulative Returns per Asset').show()"
   ]
  },
  {
   "cell_type": "code",
   "execution_count": null,
   "id": "8d35a26d-82ae-4e3b-9420-1418e1e01232",
   "metadata": {},
   "outputs": [],
   "source": [
    "# Output results\n",
    "print(pf1.stats())\n",
    "pf1.plot().show()"
   ]
  },
  {
   "cell_type": "code",
   "execution_count": null,
   "id": "9c4db1c3-b6d6-4a38-bb17-a120a1edcb10",
   "metadata": {},
   "outputs": [],
   "source": [
    "pf1.plot_drawdowns(title='Drawdown Over Time').show()"
   ]
  },
  {
   "cell_type": "code",
   "execution_count": null,
   "id": "2170dd7f-65f9-4a4c-9e42-e316eca4a041",
   "metadata": {},
   "outputs": [],
   "source": [
    "entries_bh = close.index == close.index[0]  # True only on the first timestamp\n",
    "exits_bh = pd.Series(False, index=close.index)  # Never exit\n",
    "\n",
    "pf_bh = vbt.Portfolio.from_signals(\n",
    "    close=close,\n",
    "    entries=entries_bh,\n",
    "    exits=exits_bh,\n",
    "    init_cash=pf.init_cash,\n",
    "    fees=0.0,              # Usually buy and hold assumes zero trading fees\n",
    "    freq=pf.freq\n",
    ")\n"
   ]
  },
  {
   "cell_type": "code",
   "execution_count": null,
   "id": "3adf599d-b8d4-4110-963d-3f7192adc511",
   "metadata": {},
   "outputs": [],
   "source": [
    "entries_bh = close.index == close.index[0]  # True only on the first timestamp\n",
    "exits_bh = pd.Series(False, index=close.index)  # Never exit\n",
    "\n",
    "pf_bh = vbt.Portfolio.from_signals(\n",
    "    close=close,\n",
    "    entries=entries_bh,\n",
    "    exits=exits_bh,\n",
    "    init_cash=pf.init_cash,  # use your initial cash\n",
    "    fees=0.0,\n",
    "    freq=close.index.freq or close.index.inferred_freq  # Get freq from index\n",
    ")\n"
   ]
  },
  {
   "cell_type": "code",
   "execution_count": null,
   "id": "0578465b-b24f-4b4a-b7e0-dc8f6d3f5812",
   "metadata": {},
   "outputs": [],
   "source": [
    "#only SMA and EMA strategy"
   ]
  },
  {
   "cell_type": "code",
   "execution_count": null,
   "id": "21478187-bb83-47db-8416-1e1b0427a122",
   "metadata": {},
   "outputs": [],
   "source": [
    "# Entry and Exit Conditions (simplified)\n",
    "ema_cross_up = ema_fast_val > ema_slow_val\n",
    "ema_cross_down = ema_fast_val < ema_slow_val\n",
    "trend_bull = close > sma\n",
    "trend_bear = close < sma\n",
    "\n",
    "# Final signals\n",
    "entries = ema_cross_up & trend_bull\n",
    "exits = ema_cross_down & trend_bear\n"
   ]
  },
  {
   "cell_type": "code",
   "execution_count": null,
   "id": "13ba6f3c-a929-438b-b872-f7ac083fcd17",
   "metadata": {},
   "outputs": [],
   "source": [
    "pf2 = vbt.Portfolio.from_signals(\n",
    "    close=close,\n",
    "    entries=entries,\n",
    "    exits=exits,\n",
    "    size=1.0,                   # 100% of current equity (compounding)\n",
    "    size_type='percent',\n",
    "    init_cash=initial_cash,\n",
    "    fees=0.002,                 # Simulate 0.2% slippage\n",
    "    cash_sharing=True,\n",
    "    freq='1h'\n",
    ")\n"
   ]
  },
  {
   "cell_type": "code",
   "execution_count": null,
   "id": "f79b999a-e8da-436c-975c-321125de7dc9",
   "metadata": {},
   "outputs": [],
   "source": [
    "# Output results\n",
    "print(pf2.stats())\n",
    "pf2.plot().show()"
   ]
  },
  {
   "cell_type": "code",
   "execution_count": null,
   "id": "2712fc4d-d15e-44fe-8937-675cd83db345",
   "metadata": {},
   "outputs": [],
   "source": []
  }
 ],
 "metadata": {
  "kernelspec": {
   "display_name": "new_base",
   "language": "python",
   "name": "python3"
  },
  "language_info": {
   "codemirror_mode": {
    "name": "ipython",
    "version": 3
   },
   "file_extension": ".py",
   "mimetype": "text/x-python",
   "name": "python",
   "nbconvert_exporter": "python",
   "pygments_lexer": "ipython3",
   "version": "3.13.2"
  }
 },
 "nbformat": 4,
 "nbformat_minor": 5
}
